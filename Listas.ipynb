{
 "cells": [
  {
   "cell_type": "markdown",
   "metadata": {},
   "source": [
    "# LISTAS"
   ]
  },
  {
   "cell_type": "markdown",
   "metadata": {},
   "source": [
    "### Operaciones"
   ]
  },
  {
   "cell_type": "markdown",
   "metadata": {},
   "source": [
    "###### Agregar elementos\n",
    "lista.append()\n"
   ]
  },
  {
   "cell_type": "markdown",
   "metadata": {},
   "source": [
    "###### Ejemplo"
   ]
  },
  {
   "cell_type": "code",
   "execution_count": 2,
   "metadata": {
    "scrolled": true
   },
   "outputs": [
    {
     "name": "stdout",
     "output_type": "stream",
     "text": [
      "lista inicial: ['1', '2', '3', 'a', 'b']\n",
      "lista final: ['1', '2', '3', 'a', 'b', ['pi', 'co']]\n"
     ]
    }
   ],
   "source": [
    "#creacion de lista\n",
    "cosa = ['1','2','3','a','b']\n",
    "print 'lista inicial:',cosa\n",
    "\n",
    "#variable a agregar\n",
    "extra = ['pi','co']\n",
    "\n",
    "#agregamos la variable\n",
    "cosa.append(extra)\n",
    "print 'lista final:',cosa"
   ]
  },
  {
   "cell_type": "markdown",
   "metadata": {},
   "source": [
    "###### Concatenacion\n",
    "\n",
    "para unir listas se utiliza el operador *+*"
   ]
  },
  {
   "cell_type": "markdown",
   "metadata": {},
   "source": [
    "###### Indice\n",
    "\n",
    "para obtener el i-esimo elemento de la lista se utiliza la siguiente expresion:\n",
    "\n",
    "nombre_lista[i]\n",
    "\n",
    "recordar que los indices van desde 0 hasta len(variable)-1!!"
   ]
  },
  {
   "cell_type": "markdown",
   "metadata": {},
   "source": [
    "###### Verificar un elemento en una lista\n",
    "\n",
    "con la expresion _a in b_ verificamos si el elemento a esta en la lista b\n",
    "con la expresion _a not in b_ verificamos si a no esta en b"
   ]
  },
  {
   "cell_type": "markdown",
   "metadata": {},
   "source": [
    "###### Cambiar el valor a un elemento\n",
    "\n",
    "si queremos cambiarle el valor a un elemente de la lista debemos hacer lo siguigiente:\n",
    "\n",
    "lista[i] = valor, donde _i_ será el indice del elemento que queremos modificar"
   ]
  },
  {
   "cell_type": "markdown",
   "metadata": {},
   "source": [
    "### Funciones para listas\n",
    "\n",
    "len(lista): entrega la cantidad de elementos que tiene la lista\n",
    "\n",
    "sum(lista): entrega la suma de los elementos de la lista (los elementos deben ser enteros!)\n",
    "\n",
    "del lista[a]: elimina el elemento de indice _a_ de la lista, a es un entero!\n",
    "\n",
    "lista.reverse(): invierte el orden de una lista\n",
    "\n",
    "lista.sort(): ordena la lista de menor a mayor\n",
    "\n",
    "lista.index(a): obtiene el indice del elemento a en la lista\n",
    "\n",
    "###### Ojo: del - reverse - sort modifican la lista ya creada!! no son almacenables en una variable!"
   ]
  },
  {
   "cell_type": "markdown",
   "metadata": {},
   "source": [
    "###### Ejemplos"
   ]
  },
  {
   "cell_type": "code",
   "execution_count": 11,
   "metadata": {},
   "outputs": [
    {
     "name": "stdout",
     "output_type": "stream",
     "text": [
      "el len de lista1 es:  6\n",
      "la suma de los elemntos de lista2 es:  21\n",
      "lista1 sin el '4':  ['1', '2', '3', '4', '6']\n",
      "lista1 al reves:  ['6', '4', '3', '2', '1']\n",
      "lista2 ordenada:  [1, 2, 3, 4, 5, 6]\n",
      "el indice de '2' es:  3\n"
     ]
    }
   ],
   "source": [
    "lista1 = list(\"123456\")\n",
    "lista2 = [2,6,1,5,3,4]\n",
    "\n",
    "#funcion len()\n",
    "print \"el len de lista1 es: \", len(lista1)\n",
    "\n",
    "#funcion sum()\n",
    "print \"la suma de los elemntos de lista2 es: \", sum(lista2)\n",
    "\n",
    "#funcion del\n",
    "del lista1[4]\n",
    "print \"lista1 sin el indice 4 es: \", lista1\n",
    "\n",
    "#metodo reverse\n",
    "lista1.reverse()\n",
    "print \"lista1 al reves: \",lista1\n",
    "\n",
    "#metodo sort\n",
    "lista2.sort()\n",
    "print \"lista2 ordenada: \",lista2\n",
    "\n",
    "#metodo index\n",
    "indice = lista1.index('2')\n",
    "print \"el indice de '2' es: \",indice\n"
   ]
  },
  {
   "cell_type": "markdown",
   "metadata": {},
   "source": [
    "### Mas funciones\n",
    "\n",
    "###### Rebanado\n",
    "\n",
    "con notacion:\n",
    "\n",
    "lista[inicio:fin:salto]\n",
    "\n",
    "el rebanado lo que hace es crear una lista (por ende debe ser almacenada en una variable) con las siguientes caracteristicas:\n",
    "\n",
    "*inicio:* indice del primer elemento que obtendremos de una lista\n",
    "*fin:* indice sigiente del ultimo elemento que queremos obtener de una lista\n",
    "*salto:* numero de indice que se \"saltara\" de un elemento a otra de una lista para obtenerlos"
   ]
  },
  {
   "cell_type": "markdown",
   "metadata": {},
   "source": [
    "###### Ejemplos"
   ]
  },
  {
   "cell_type": "code",
   "execution_count": 18,
   "metadata": {},
   "outputs": [
    {
     "name": "stdout",
     "output_type": "stream",
     "text": [
      " elementos del 2 al 7 de 'lis': \n",
      "los numeros impares de 'lis' son:  [1, 3, 5, 7, 9]\n",
      "test es:  [2, 4, 6, 8]\n",
      "lista es:  [6, 7, 8, 9]\n",
      "a es:  [6, 9]\n",
      "b es:  [9, 8]\n"
     ]
    }
   ],
   "source": [
    "lis = [1,2,3,4,5,6,7,8,9]\n",
    "\n",
    "#crearemos una lista desde el 2 al 7 a partir de lis\n",
    "nueva_lista = lis[1:1:7]\n",
    "print \"elementos del 2 al 7 de 'lis': \"\n",
    "\n",
    "#crearemos una lista solo de elementos impares a partir de lis\n",
    "impares = lis[0:10:2]\n",
    "print \"los numeros impares de 'lis' son: \", impares\n",
    "\n",
    "#si omitimos el fin, asume fin = len(lis)\n",
    "test = lis[1::2]\n",
    "print \"test es: \",test\n",
    "\n",
    "#si omitimos el salto, asume salto = 1\n",
    "lista = lis[5:9]\n",
    "print \"lista es: \",lista\n",
    "\n",
    "#si omitimos inicio, asume inicio = 0\n",
    "a = lista[:8:3]\n",
    "print \"a es: \", a\n",
    "\n",
    "#rebanar de atras hacia adelante\n",
    "b = lista[9:1:-1]\n",
    "print \"b es: \",b"
   ]
  },
  {
   "cell_type": "markdown",
   "metadata": {},
   "source": [
    "###### Copiar listas\n",
    "\n",
    "para copiar listas es necesario hacer lo siguiente:\n",
    "\n",
    "tenemos lista1 = [1,2,3]\n",
    "\n",
    "y queremos que lista2 sea la misma, entonces hacemos lo siguiente:\n",
    "\n",
    "lista2 = list(list1)\n",
    "\n",
    "###### ¿Por que? veamos..."
   ]
  },
  {
   "cell_type": "code",
   "execution_count": 19,
   "metadata": {},
   "outputs": [
    {
     "name": "stdout",
     "output_type": "stream",
     "text": [
      "a:  [500, 2, 3, 4]\n",
      "b:  [500, 2, 3, 4]\n"
     ]
    }
   ],
   "source": [
    "#forma erronea\n",
    "a = [1,2,3,4]\n",
    "b = a\n",
    "b[0] = 500\n",
    "print \"a: \",a\n",
    "print \"b: \",b"
   ]
  },
  {
   "cell_type": "code",
   "execution_count": 20,
   "metadata": {},
   "outputs": [
    {
     "name": "stdout",
     "output_type": "stream",
     "text": [
      "a:  [1, 2, 3, 4]\n",
      "b:  [500, 2, 3, 4]\n"
     ]
    }
   ],
   "source": [
    "#se modificaron ambas listas, en cambio ahora...\n",
    "a = [1,2,3,4]\n",
    "b = list(a)\n",
    "b[0] = 500\n",
    "print \"a: \",a\n",
    "print \"b: \",b"
   ]
  },
  {
   "cell_type": "markdown",
   "metadata": {},
   "source": [
    "###### Range\n",
    "\n",
    "entrega una lista con valores ordenados (enteros) y tiene la misma notacion que el rebanado, es decir:\n",
    "\n",
    "range(inicio:fin:salto) con:\n",
    "\n",
    "*inicio:* entero en el cual iniciamos la lista\n",
    "\n",
    "*fin:* entero siguiente del cual finalizamos la lista\n",
    "\n",
    "*salto:* distancia entre entero y entero"
   ]
  }
 ],
 "metadata": {
  "kernelspec": {
   "display_name": "Python 2",
   "language": "python",
   "name": "python2"
  },
  "language_info": {
   "codemirror_mode": {
    "name": "ipython",
    "version": 2
   },
   "file_extension": ".py",
   "mimetype": "text/x-python",
   "name": "python",
   "nbconvert_exporter": "python",
   "pygments_lexer": "ipython2",
   "version": "2.7.15rc1"
  }
 },
 "nbformat": 4,
 "nbformat_minor": 2
}
