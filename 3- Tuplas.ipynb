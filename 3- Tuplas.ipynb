{
 "cells": [
  {
   "cell_type": "markdown",
   "metadata": {},
   "source": [
    "# Tuplas"
   ]
  },
  {
   "cell_type": "markdown",
   "metadata": {},
   "source": [
    "Secuencia de valores agrupados cuyos valores no se pueden modificar (tipo de dato no mutable), por lo tanto, no se le pueden agregar, eliminar ni modificar elementos\n",
    "\n",
    "###### Creacion de tuplas\n",
    "\n",
    "utilizando dos corchetes *[]* o la funcion *tuple()*\n",
    "\n",
    "###### Desempaquetado de tuplas\n",
    "\n",
    "extraer el valor de la tupla de forma corta y simple:\n",
    "\n",
    "variable1, variable2 = (elemento1, elemento2)\n",
    "\n",
    "variable1 obtendria el valor de elemento1 y varaible2 el valor de elemento2"
   ]
  },
  {
   "cell_type": "markdown",
   "metadata": {},
   "source": [
    "###### Ejemplo"
   ]
  },
  {
   "cell_type": "code",
   "execution_count": 3,
   "metadata": {},
   "outputs": [
    {
     "name": "stdout",
     "output_type": "stream",
     "text": [
      "quien tiene el nombre mas largo?\n",
      "alexander\n"
     ]
    }
   ],
   "source": [
    "#definimos la tupla\n",
    "amigos = (\"pedro\",\"alicia\",\"juan\",\"esteban\",\"alexander\",\"agustin\")\n",
    "\n",
    "print \"quien tiene el nombre mas largo?\"\n",
    "\n",
    "n = \"\"\n",
    "for nombre in amigos:\n",
    "    if len(nombre) > len(n):\n",
    "        n = nombre\n",
    "print n"
   ]
  },
  {
   "cell_type": "code",
   "execution_count": null,
   "metadata": {},
   "outputs": [],
   "source": []
  }
 ],
 "metadata": {
  "kernelspec": {
   "display_name": "Python 2",
   "language": "python",
   "name": "python2"
  },
  "language_info": {
   "codemirror_mode": {
    "name": "ipython",
    "version": 2
   },
   "file_extension": ".py",
   "mimetype": "text/x-python",
   "name": "python",
   "nbconvert_exporter": "python",
   "pygments_lexer": "ipython2",
   "version": "2.7.15rc1"
  }
 },
 "nbformat": 4,
 "nbformat_minor": 2
}
