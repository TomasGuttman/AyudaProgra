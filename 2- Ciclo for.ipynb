{
 "cells": [
  {
   "cell_type": "markdown",
   "metadata": {},
   "source": [
    "# Ciclo for"
   ]
  },
  {
   "cell_type": "markdown",
   "metadata": {},
   "source": [
    "###### ¿que hace?\n",
    "\n",
    "repite el algoritmo dentro de el una cantidad fija de veces\n",
    "\n",
    "funciona con elementos iterables\n",
    "\n",
    "###### ¿que es un elemento iterable?\n",
    "\n",
    "es un elemento sus elementos pueden ser recorridos en un ciclo\n",
    "\n",
    "*listas\n",
    "\n",
    "*tuplas (mas adelante)\n",
    "\n",
    "*diccionarios (mas adelante)\n",
    "\n",
    "*strings"
   ]
  },
  {
   "cell_type": "markdown",
   "metadata": {},
   "source": [
    "###### Sintaxis"
   ]
  },
  {
   "cell_type": "code",
   "execution_count": 2,
   "metadata": {},
   "outputs": [],
   "source": [
    "for variable in elemento_iterable:\n",
    "    #codigo"
   ]
  },
  {
   "cell_type": "markdown",
   "metadata": {},
   "source": [
    "###### Ejemplo"
   ]
  },
  {
   "cell_type": "code",
   "execution_count": 5,
   "metadata": {},
   "outputs": [
    {
     "name": "stdout",
     "output_type": "stream",
     "text": [
      "me gusta comer papitas\n",
      "me gusta comer completos\n",
      "me gusta comer hamburguesas\n"
     ]
    }
   ],
   "source": [
    "#definimos variable iterable\n",
    "lista = [\"papitas\",\"completos\",\"hamburguesas\"]\n",
    "\n",
    "#creamos el ciclo for\n",
    "for comida in lista:\n",
    "    print \"me gusta comer\",comida"
   ]
  },
  {
   "cell_type": "markdown",
   "metadata": {},
   "source": [
    "analicemos el codigo:\n",
    "\n",
    "al entrar al for la variable comida tiene el valor del primer elemento de la lista, al ejecutarse el codigo dentro de el, vuelve al inicio pero esta vez comida toma el valor del segundo elemento, ejecuta el codigo y luego toma el valor del tercer elemento, ejecuta el codigo y termina\n",
    "\n",
    "###### es decir\n",
    "\n",
    "la variable que recorre el elemento iterable va tomando el valor de sus elementos hasta llegar al ultimo y asi terminar el ciclo"
   ]
  },
  {
   "cell_type": "code",
   "execution_count": null,
   "metadata": {},
   "outputs": [],
   "source": []
  }
 ],
 "metadata": {
  "kernelspec": {
   "display_name": "Python 2",
   "language": "python",
   "name": "python2"
  },
  "language_info": {
   "codemirror_mode": {
    "name": "ipython",
    "version": 2
   },
   "file_extension": ".py",
   "mimetype": "text/x-python",
   "name": "python",
   "nbconvert_exporter": "python",
   "pygments_lexer": "ipython2",
   "version": "2.7.15rc1"
  }
 },
 "nbformat": 4,
 "nbformat_minor": 2
}
